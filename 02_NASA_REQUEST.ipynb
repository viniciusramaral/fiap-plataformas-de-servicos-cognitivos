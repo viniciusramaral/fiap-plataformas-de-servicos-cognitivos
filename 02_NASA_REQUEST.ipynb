{
  "nbformat": 4,
  "nbformat_minor": 0,
  "metadata": {
    "colab": {
      "provenance": [],
      "authorship_tag": "ABX9TyOI3dBX/dO96pNFLMwrtEk5",
      "include_colab_link": true
    },
    "kernelspec": {
      "name": "python3",
      "display_name": "Python 3"
    },
    "language_info": {
      "name": "python"
    }
  },
  "cells": [
    {
      "cell_type": "markdown",
      "metadata": {
        "id": "view-in-github",
        "colab_type": "text"
      },
      "source": [
        "<a href=\"https://colab.research.google.com/github/viniciusramaral/fiap-plataformas-de-servicos-cognitivos/blob/main/02_NASA_REQUEST.ipynb\" target=\"_parent\"><img src=\"https://colab.research.google.com/assets/colab-badge.svg\" alt=\"Open In Colab\"/></a>"
      ]
    },
    {
      "cell_type": "markdown",
      "source": [
        "CjYiM66W4OneEAy3ZVpTuVA28c7ZcjL8POa9MvfA&sol"
      ],
      "metadata": {
        "id": "_0ez-A8YQc6G"
      }
    },
    {
      "cell_type": "code",
      "execution_count": 98,
      "metadata": {
        "id": "8EJn47VZNmJG"
      },
      "outputs": [],
      "source": [
        "# @title Texto de título padrão\n",
        "api_key = \"\" # @param {type:\"string\"}\n",
        "\n",
        "\n",
        "import requests, json\n",
        "from PIL import Image\n",
        "from IPython.display import display\n",
        "\n",
        "\n",
        "def RequestInNasa(api_key, data, camera, sol):\n",
        "  url = f\"https://api.nasa.gov/mars-photos/api/v1/rovers/curiosity/photos?api_key={api_key}={sol}&camera={camera}&page=1&earth_date={data}\"\n",
        "\n",
        "  payload = {}\n",
        "  headers = {}\n",
        "\n",
        "  response = requests.request(\"GET\", url, headers=headers, data=payload)\n",
        "\n",
        "  return response.json()\n",
        "\n",
        "\n"
      ]
    },
    {
      "cell_type": "code",
      "source": [
        "# @title Texto de título padrão\n",
        "data = \"2020-01-08\" # @param {type:\"date\"}\n",
        "camera = \"MAHLI\" # @param [\"MAHLI\"]\n",
        "sol = 1 # @param {type:\"slider\", min:1, max:50, step:1}\n",
        "\n",
        "\n",
        "res = RequestInNasa(api_key, data, camera, sol)\n",
        "\n",
        "\n",
        "print(\"=============================================\")\n",
        "print(\"=============================================\")\n",
        "print(\"                     NASA                   \")\n",
        "print(\"=============================================\")\n",
        "print(\"=============================================\\n\\n\")\n",
        "if len(res[\"photos\"]) > 1:\n",
        "  for r in res['photos']:\n",
        "    print(\"ROVER: \", r['rover']['launch_date'])\n",
        "    print(\"ROVER: \", r['rover']['landing_date'])\n",
        "    print(\"ROVER: \", r['rover']['name'])\n",
        "    print(\"ID: \", r['id'])\n",
        "    print(\"SOL: \", r['sol'])\n",
        "    print(\"SOL MÁXIMO: \", r['rover']['max_sol'])\n",
        "    print(r['camera']['name'], \" - \", r['camera']['full_name'])\n",
        "    print(\"Photo: \", r['img_src'])\n",
        "    pil_im = display(Image.open(requests.get(r['img_src'], stream=True).raw) )\n",
        "    print(\"Total de Fotos: \", r['rover'][\"total_photos\"])\n",
        "    print(\"\\n===================\\n\\n\")\n",
        "\n",
        "\n",
        "else:\n",
        "  print(\"Não foram detectadas fotos para estes parâmetros.\")"
      ],
      "metadata": {
        "id": "7kSBr8CFO9Hh"
      },
      "execution_count": null,
      "outputs": []
    }
  ]
}